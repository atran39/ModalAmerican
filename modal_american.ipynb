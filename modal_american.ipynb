{
 "cells": [
  {
   "cell_type": "markdown",
   "metadata": {},
   "source": [
    "## Prepping Data\n",
    "- Query in IPUMS \n",
    "- Download R script, data extract\n",
    "- Modify R script to add `write.csv(data, file = \"census.csv\")`"
   ]
  },
  {
   "cell_type": "code",
   "execution_count": 2,
   "metadata": {},
   "outputs": [],
   "source": [
    "import pandas as pd\n",
    "import numpy as np\n",
    "from sklearn.preprocessing import StandardScaler \n",
    "from sklearn.cluster import DBSCAN\n",
    "from sklearn.cluster import KMeans\n",
    "from sklearn import metrics\n",
    "import matplotlib.pyplot as plt\n",
    "from bs4 import BeautifulSoup\n",
    "import re\n",
    "import time"
   ]
  },
  {
   "cell_type": "code",
   "execution_count": 68,
   "metadata": {},
   "outputs": [],
   "source": [
    "data = pd.read_csv('./data/census.csv').drop(columns='Unnamed: 0')"
   ]
  },
  {
   "cell_type": "code",
   "execution_count": 69,
   "metadata": {},
   "outputs": [
    {
     "data": {
      "text/html": [
       "<div>\n",
       "<style scoped>\n",
       "    .dataframe tbody tr th:only-of-type {\n",
       "        vertical-align: middle;\n",
       "    }\n",
       "\n",
       "    .dataframe tbody tr th {\n",
       "        vertical-align: top;\n",
       "    }\n",
       "\n",
       "    .dataframe thead th {\n",
       "        text-align: right;\n",
       "    }\n",
       "</style>\n",
       "<table border=\"1\" class=\"dataframe\">\n",
       "  <thead>\n",
       "    <tr style=\"text-align: right;\">\n",
       "      <th></th>\n",
       "      <th>YEAR</th>\n",
       "      <th>SAMPLE</th>\n",
       "      <th>SERIAL</th>\n",
       "      <th>CBSERIAL</th>\n",
       "      <th>HHWT</th>\n",
       "      <th>PUMA</th>\n",
       "      <th>GQ</th>\n",
       "      <th>PERNUM</th>\n",
       "      <th>PERWT</th>\n",
       "      <th>SEX</th>\n",
       "      <th>AGE</th>\n",
       "      <th>MARST</th>\n",
       "      <th>RACE</th>\n",
       "      <th>RACED</th>\n",
       "      <th>EDUC</th>\n",
       "      <th>EDUCD</th>\n",
       "      <th>EMPSTAT</th>\n",
       "      <th>EMPSTATD</th>\n",
       "      <th>FTOTINC</th>\n",
       "    </tr>\n",
       "  </thead>\n",
       "  <tbody>\n",
       "    <tr>\n",
       "      <th>0</th>\n",
       "      <td>2017</td>\n",
       "      <td>201701</td>\n",
       "      <td>1.0</td>\n",
       "      <td>2.017000e+12</td>\n",
       "      <td>206</td>\n",
       "      <td>2500</td>\n",
       "      <td>1</td>\n",
       "      <td>1</td>\n",
       "      <td>206</td>\n",
       "      <td>1</td>\n",
       "      <td>73</td>\n",
       "      <td>3</td>\n",
       "      <td>2</td>\n",
       "      <td>200</td>\n",
       "      <td>2</td>\n",
       "      <td>25</td>\n",
       "      <td>3</td>\n",
       "      <td>30</td>\n",
       "      <td>10000.0</td>\n",
       "    </tr>\n",
       "    <tr>\n",
       "      <th>1</th>\n",
       "      <td>2017</td>\n",
       "      <td>201701</td>\n",
       "      <td>2.0</td>\n",
       "      <td>2.017000e+12</td>\n",
       "      <td>45</td>\n",
       "      <td>1800</td>\n",
       "      <td>1</td>\n",
       "      <td>1</td>\n",
       "      <td>45</td>\n",
       "      <td>2</td>\n",
       "      <td>31</td>\n",
       "      <td>6</td>\n",
       "      <td>1</td>\n",
       "      <td>100</td>\n",
       "      <td>10</td>\n",
       "      <td>101</td>\n",
       "      <td>1</td>\n",
       "      <td>10</td>\n",
       "      <td>38500.0</td>\n",
       "    </tr>\n",
       "    <tr>\n",
       "      <th>2</th>\n",
       "      <td>2017</td>\n",
       "      <td>201701</td>\n",
       "      <td>3.0</td>\n",
       "      <td>2.017000e+12</td>\n",
       "      <td>136</td>\n",
       "      <td>2400</td>\n",
       "      <td>1</td>\n",
       "      <td>1</td>\n",
       "      <td>136</td>\n",
       "      <td>1</td>\n",
       "      <td>41</td>\n",
       "      <td>1</td>\n",
       "      <td>1</td>\n",
       "      <td>100</td>\n",
       "      <td>6</td>\n",
       "      <td>64</td>\n",
       "      <td>1</td>\n",
       "      <td>10</td>\n",
       "      <td>90700.0</td>\n",
       "    </tr>\n",
       "    <tr>\n",
       "      <th>3</th>\n",
       "      <td>2017</td>\n",
       "      <td>201701</td>\n",
       "      <td>3.0</td>\n",
       "      <td>2.017000e+12</td>\n",
       "      <td>136</td>\n",
       "      <td>2400</td>\n",
       "      <td>1</td>\n",
       "      <td>2</td>\n",
       "      <td>121</td>\n",
       "      <td>2</td>\n",
       "      <td>48</td>\n",
       "      <td>1</td>\n",
       "      <td>1</td>\n",
       "      <td>100</td>\n",
       "      <td>6</td>\n",
       "      <td>63</td>\n",
       "      <td>3</td>\n",
       "      <td>30</td>\n",
       "      <td>90700.0</td>\n",
       "    </tr>\n",
       "    <tr>\n",
       "      <th>4</th>\n",
       "      <td>2017</td>\n",
       "      <td>201701</td>\n",
       "      <td>3.0</td>\n",
       "      <td>2.017000e+12</td>\n",
       "      <td>136</td>\n",
       "      <td>2400</td>\n",
       "      <td>1</td>\n",
       "      <td>3</td>\n",
       "      <td>111</td>\n",
       "      <td>1</td>\n",
       "      <td>16</td>\n",
       "      <td>6</td>\n",
       "      <td>1</td>\n",
       "      <td>100</td>\n",
       "      <td>4</td>\n",
       "      <td>40</td>\n",
       "      <td>3</td>\n",
       "      <td>30</td>\n",
       "      <td>90700.0</td>\n",
       "    </tr>\n",
       "  </tbody>\n",
       "</table>\n",
       "</div>"
      ],
      "text/plain": [
       "   YEAR  SAMPLE  SERIAL      CBSERIAL  HHWT  PUMA  GQ  PERNUM  PERWT  SEX  \\\n",
       "0  2017  201701     1.0  2.017000e+12   206  2500   1       1    206    1   \n",
       "1  2017  201701     2.0  2.017000e+12    45  1800   1       1     45    2   \n",
       "2  2017  201701     3.0  2.017000e+12   136  2400   1       1    136    1   \n",
       "3  2017  201701     3.0  2.017000e+12   136  2400   1       2    121    2   \n",
       "4  2017  201701     3.0  2.017000e+12   136  2400   1       3    111    1   \n",
       "\n",
       "   AGE  MARST  RACE  RACED  EDUC  EDUCD  EMPSTAT  EMPSTATD  FTOTINC  \n",
       "0   73      3     2    200     2     25        3        30  10000.0  \n",
       "1   31      6     1    100    10    101        1        10  38500.0  \n",
       "2   41      1     1    100     6     64        1        10  90700.0  \n",
       "3   48      1     1    100     6     63        3        30  90700.0  \n",
       "4   16      6     1    100     4     40        3        30  90700.0  "
      ]
     },
     "execution_count": 69,
     "metadata": {},
     "output_type": "execute_result"
    }
   ],
   "source": [
    "data.head()"
   ]
  },
  {
   "cell_type": "markdown",
   "metadata": {},
   "source": [
    "For neighborhood type category, need to calculate tract-weighted average density for each PUMA"
   ]
  },
  {
   "cell_type": "code",
   "execution_count": 70,
   "metadata": {},
   "outputs": [],
   "source": [
    "puma_total_counts_df = data['PUMA'].value_counts()\n",
    "data['PUMA_TOTAL_POP'] = data['PUMA'].map(puma_total_counts_df)"
   ]
  },
  {
   "cell_type": "markdown",
   "metadata": {},
   "source": [
    "Perform one-hot encoding on categorical data (sex, race/ethnicity, neighborhood type, marital status, education, employment status), extract relevant columns for clustering"
   ]
  },
  {
   "cell_type": "code",
   "execution_count": 71,
   "metadata": {},
   "outputs": [],
   "source": [
    "categorical_vars = ['SEX', 'RACE', 'MARST', 'EDUC', 'EMPSTAT']\n",
    "data = pd.get_dummies(data, columns=categorical_vars)"
   ]
  },
  {
   "cell_type": "code",
   "execution_count": 72,
   "metadata": {},
   "outputs": [
    {
     "data": {
      "text/plain": [
       "Index(['YEAR', 'SAMPLE', 'SERIAL', 'CBSERIAL', 'HHWT', 'PUMA', 'GQ', 'PERNUM',\n",
       "       'PERWT', 'AGE', 'RACED', 'EDUCD', 'EMPSTATD', 'FTOTINC',\n",
       "       'PUMA_TOTAL_POP', 'SEX_1', 'SEX_2', 'RACE_1', 'RACE_2', 'RACE_3',\n",
       "       'RACE_4', 'RACE_5', 'RACE_6', 'RACE_7', 'RACE_8', 'RACE_9', 'MARST_1',\n",
       "       'MARST_2', 'MARST_3', 'MARST_4', 'MARST_5', 'MARST_6', 'EDUC_0',\n",
       "       'EDUC_1', 'EDUC_2', 'EDUC_3', 'EDUC_4', 'EDUC_5', 'EDUC_6', 'EDUC_7',\n",
       "       'EDUC_8', 'EDUC_10', 'EDUC_11', 'EMPSTAT_0', 'EMPSTAT_1', 'EMPSTAT_2',\n",
       "       'EMPSTAT_3'],\n",
       "      dtype='object')"
      ]
     },
     "execution_count": 72,
     "metadata": {},
     "output_type": "execute_result"
    }
   ],
   "source": [
    "data.columns"
   ]
  },
  {
   "cell_type": "code",
   "execution_count": 73,
   "metadata": {},
   "outputs": [
    {
     "data": {
      "text/html": [
       "<div>\n",
       "<style scoped>\n",
       "    .dataframe tbody tr th:only-of-type {\n",
       "        vertical-align: middle;\n",
       "    }\n",
       "\n",
       "    .dataframe tbody tr th {\n",
       "        vertical-align: top;\n",
       "    }\n",
       "\n",
       "    .dataframe thead th {\n",
       "        text-align: right;\n",
       "    }\n",
       "</style>\n",
       "<table border=\"1\" class=\"dataframe\">\n",
       "  <thead>\n",
       "    <tr style=\"text-align: right;\">\n",
       "      <th></th>\n",
       "      <th>YEAR</th>\n",
       "      <th>SAMPLE</th>\n",
       "      <th>SERIAL</th>\n",
       "      <th>CBSERIAL</th>\n",
       "      <th>HHWT</th>\n",
       "      <th>PUMA</th>\n",
       "      <th>GQ</th>\n",
       "      <th>PERNUM</th>\n",
       "      <th>PERWT</th>\n",
       "      <th>AGE</th>\n",
       "      <th>...</th>\n",
       "      <th>EDUC_5</th>\n",
       "      <th>EDUC_6</th>\n",
       "      <th>EDUC_7</th>\n",
       "      <th>EDUC_8</th>\n",
       "      <th>EDUC_10</th>\n",
       "      <th>EDUC_11</th>\n",
       "      <th>EMPSTAT_0</th>\n",
       "      <th>EMPSTAT_1</th>\n",
       "      <th>EMPSTAT_2</th>\n",
       "      <th>EMPSTAT_3</th>\n",
       "    </tr>\n",
       "  </thead>\n",
       "  <tbody>\n",
       "    <tr>\n",
       "      <th>0</th>\n",
       "      <td>2017</td>\n",
       "      <td>201701</td>\n",
       "      <td>1.0</td>\n",
       "      <td>2.017000e+12</td>\n",
       "      <td>206</td>\n",
       "      <td>2500</td>\n",
       "      <td>1</td>\n",
       "      <td>1</td>\n",
       "      <td>206</td>\n",
       "      <td>73</td>\n",
       "      <td>...</td>\n",
       "      <td>0</td>\n",
       "      <td>0</td>\n",
       "      <td>0</td>\n",
       "      <td>0</td>\n",
       "      <td>0</td>\n",
       "      <td>0</td>\n",
       "      <td>0</td>\n",
       "      <td>0</td>\n",
       "      <td>0</td>\n",
       "      <td>1</td>\n",
       "    </tr>\n",
       "    <tr>\n",
       "      <th>1</th>\n",
       "      <td>2017</td>\n",
       "      <td>201701</td>\n",
       "      <td>2.0</td>\n",
       "      <td>2.017000e+12</td>\n",
       "      <td>45</td>\n",
       "      <td>1800</td>\n",
       "      <td>1</td>\n",
       "      <td>1</td>\n",
       "      <td>45</td>\n",
       "      <td>31</td>\n",
       "      <td>...</td>\n",
       "      <td>0</td>\n",
       "      <td>0</td>\n",
       "      <td>0</td>\n",
       "      <td>0</td>\n",
       "      <td>1</td>\n",
       "      <td>0</td>\n",
       "      <td>0</td>\n",
       "      <td>1</td>\n",
       "      <td>0</td>\n",
       "      <td>0</td>\n",
       "    </tr>\n",
       "    <tr>\n",
       "      <th>2</th>\n",
       "      <td>2017</td>\n",
       "      <td>201701</td>\n",
       "      <td>3.0</td>\n",
       "      <td>2.017000e+12</td>\n",
       "      <td>136</td>\n",
       "      <td>2400</td>\n",
       "      <td>1</td>\n",
       "      <td>1</td>\n",
       "      <td>136</td>\n",
       "      <td>41</td>\n",
       "      <td>...</td>\n",
       "      <td>0</td>\n",
       "      <td>1</td>\n",
       "      <td>0</td>\n",
       "      <td>0</td>\n",
       "      <td>0</td>\n",
       "      <td>0</td>\n",
       "      <td>0</td>\n",
       "      <td>1</td>\n",
       "      <td>0</td>\n",
       "      <td>0</td>\n",
       "    </tr>\n",
       "    <tr>\n",
       "      <th>3</th>\n",
       "      <td>2017</td>\n",
       "      <td>201701</td>\n",
       "      <td>3.0</td>\n",
       "      <td>2.017000e+12</td>\n",
       "      <td>136</td>\n",
       "      <td>2400</td>\n",
       "      <td>1</td>\n",
       "      <td>2</td>\n",
       "      <td>121</td>\n",
       "      <td>48</td>\n",
       "      <td>...</td>\n",
       "      <td>0</td>\n",
       "      <td>1</td>\n",
       "      <td>0</td>\n",
       "      <td>0</td>\n",
       "      <td>0</td>\n",
       "      <td>0</td>\n",
       "      <td>0</td>\n",
       "      <td>0</td>\n",
       "      <td>0</td>\n",
       "      <td>1</td>\n",
       "    </tr>\n",
       "    <tr>\n",
       "      <th>4</th>\n",
       "      <td>2017</td>\n",
       "      <td>201701</td>\n",
       "      <td>3.0</td>\n",
       "      <td>2.017000e+12</td>\n",
       "      <td>136</td>\n",
       "      <td>2400</td>\n",
       "      <td>1</td>\n",
       "      <td>3</td>\n",
       "      <td>111</td>\n",
       "      <td>16</td>\n",
       "      <td>...</td>\n",
       "      <td>0</td>\n",
       "      <td>0</td>\n",
       "      <td>0</td>\n",
       "      <td>0</td>\n",
       "      <td>0</td>\n",
       "      <td>0</td>\n",
       "      <td>0</td>\n",
       "      <td>0</td>\n",
       "      <td>0</td>\n",
       "      <td>1</td>\n",
       "    </tr>\n",
       "  </tbody>\n",
       "</table>\n",
       "<p>5 rows × 47 columns</p>\n",
       "</div>"
      ],
      "text/plain": [
       "   YEAR  SAMPLE  SERIAL      CBSERIAL  HHWT  PUMA  GQ  PERNUM  PERWT  AGE  \\\n",
       "0  2017  201701     1.0  2.017000e+12   206  2500   1       1    206   73   \n",
       "1  2017  201701     2.0  2.017000e+12    45  1800   1       1     45   31   \n",
       "2  2017  201701     3.0  2.017000e+12   136  2400   1       1    136   41   \n",
       "3  2017  201701     3.0  2.017000e+12   136  2400   1       2    121   48   \n",
       "4  2017  201701     3.0  2.017000e+12   136  2400   1       3    111   16   \n",
       "\n",
       "   ...  EDUC_5  EDUC_6  EDUC_7  EDUC_8  EDUC_10  EDUC_11  EMPSTAT_0  \\\n",
       "0  ...       0       0       0       0        0        0          0   \n",
       "1  ...       0       0       0       0        1        0          0   \n",
       "2  ...       0       1       0       0        0        0          0   \n",
       "3  ...       0       1       0       0        0        0          0   \n",
       "4  ...       0       0       0       0        0        0          0   \n",
       "\n",
       "   EMPSTAT_1  EMPSTAT_2  EMPSTAT_3  \n",
       "0          0          0          1  \n",
       "1          1          0          0  \n",
       "2          1          0          0  \n",
       "3          0          0          1  \n",
       "4          0          0          1  \n",
       "\n",
       "[5 rows x 47 columns]"
      ]
     },
     "execution_count": 73,
     "metadata": {},
     "output_type": "execute_result"
    }
   ],
   "source": [
    "data.head()"
   ]
  },
  {
   "cell_type": "markdown",
   "metadata": {},
   "source": [
    "Extract only relevant columns and normalize"
   ]
  },
  {
   "cell_type": "code",
   "execution_count": 79,
   "metadata": {},
   "outputs": [],
   "source": [
    "relevant_data = data.filter(regex='AGE|RACE$|SEX|PUMA_TOTAL_POP|MARST|EDUC_|FTOTINC|EMPSTAT_')"
   ]
  },
  {
   "cell_type": "code",
   "execution_count": 80,
   "metadata": {},
   "outputs": [
    {
     "data": {
      "text/plain": [
       "Index(['AGE', 'FTOTINC', 'PUMA_TOTAL_POP', 'SEX_1', 'SEX_2', 'MARST_1',\n",
       "       'MARST_2', 'MARST_3', 'MARST_4', 'MARST_5', 'MARST_6', 'EDUC_0',\n",
       "       'EDUC_1', 'EDUC_2', 'EDUC_3', 'EDUC_4', 'EDUC_5', 'EDUC_6', 'EDUC_7',\n",
       "       'EDUC_8', 'EDUC_10', 'EDUC_11', 'EMPSTAT_0', 'EMPSTAT_1', 'EMPSTAT_2',\n",
       "       'EMPSTAT_3'],\n",
       "      dtype='object')"
      ]
     },
     "execution_count": 80,
     "metadata": {},
     "output_type": "execute_result"
    }
   ],
   "source": [
    "relevant_data.columns"
   ]
  },
  {
   "cell_type": "code",
   "execution_count": 81,
   "metadata": {},
   "outputs": [],
   "source": [
    "scaler = StandardScaler()\n",
    "scaler.fit(relevant_data)\n",
    "scaled_data = scaler.transform(relevant_data)"
   ]
  },
  {
   "cell_type": "markdown",
   "metadata": {},
   "source": [
    "Use DSCAN to estimate # of clusters"
   ]
  },
  {
   "cell_type": "code",
   "execution_count": null,
   "metadata": {},
   "outputs": [],
   "source": [
    "runs = 2\n",
    "num_clusters_list = []\n",
    "sample_ratio = .1\n",
    "dbscan_min_samples = 500\n",
    "\n",
    "time_flag = True # use this to measure the time to run DBSCAN for each sample run, for me it was ~4500s per iteration using \n",
    "\n",
    "if time_flag:\n",
    "    t0 = time.time()\n",
    "\n",
    "for _ in range(runs):\n",
    "    num_samples = int(sample_ratio * scaled_data.shape[0])\n",
    "    samples = scaled_data[np.random.choice(scaled_data.shape[0], num_samples, replace=True)]\n",
    "    db = DBSCAN(min_samples=dbscan_min_samples).fit(samples)\n",
    "    labels = db.labels_\n",
    "    n_clusters_ = len(set(labels)) - (1 if -1 in labels else 0)\n",
    "    num_clusters_list.append(n_clusters_)\n",
    "    \n",
    "    if time_flag:\n",
    "        t1 = time.time()\n",
    "        delta = t1 - t0\n",
    "        t0 = t1\n",
    "        print(delta)\n",
    "        \n",
    "print('num_clusters_list:', num_clusters_list)\n",
    "optimal_n = int(np.rint(np.mean(num_clusters_list)))"
   ]
  },
  {
   "cell_type": "code",
   "execution_count": 82,
   "metadata": {},
   "outputs": [],
   "source": [
    "optimal_n = 39"
   ]
  },
  {
   "cell_type": "code",
   "execution_count": 83,
   "metadata": {},
   "outputs": [],
   "source": [
    "kmeans = KMeans(n_clusters=optimal_n).fit(scaled_data)\n",
    "# kmeans.cluster_centers_"
   ]
  },
  {
   "cell_type": "code",
   "execution_count": 84,
   "metadata": {},
   "outputs": [],
   "source": [
    "labels, counts = np.unique(kmeans.labels_, return_counts=True)"
   ]
  },
  {
   "cell_type": "code",
   "execution_count": 16,
   "metadata": {},
   "outputs": [
    {
     "data": {
      "image/png": "[encoded data removed]",
      "text/plain": [
       "<Figure size 432x288 with 1 Axes>"
      ]
     },
     "metadata": {
      "needs_background": "light"
     },
     "output_type": "display_data"
    }
   ],
   "source": [
    "plt.bar(range(len(counts)), counts)\n",
    "plt.xticks(range(len(labels)), labels)\n",
    "plt.show()"
   ]
  },
  {
   "cell_type": "code",
   "execution_count": 85,
   "metadata": {},
   "outputs": [
    {
     "name": "stdout",
     "output_type": "stream",
     "text": [
      "{'AGE': 57.27920373341112, 'FTOTINC': 9999999.00000154, 'PUMA_TOTAL_POP': 17583.115283651758, 'SEX_1': 0.6849205191775021, 'SEX_2': 0.315079480822498, 'MARST_1': 7.993605777301127e-14, 'MARST_2': 0.9999999999998195, 'MARST_3': 4.9057979900624105e-15, 'MARST_4': -9.534040223968532e-15, 'MARST_5': 2.8727020762175925e-15, 'MARST_6': 1.2445600106048005e-13, 'EDUC_0': 0.013052355257391145, 'EDUC_1': 0.013125273443193738, 'EDUC_2': 0.07109523115065097, 'EDUC_3': 0.032011083564242634, 'EDUC_4': 0.045719702493798815, 'EDUC_5': 0.05395945748869399, 'EDUC_6': 0.4356132419425663, 'EDUC_7': 0.14889893539448645, 'EDUC_8': 0.044844684264254, 'EDUC_10': 0.09406445967624086, 'EDUC_11': 0.047615575324487236, 'EMPSTAT_0': 0.00021875455738815108, 'EMPSTAT_1': 0.12337757036605057, 'EMPSTAT_2': 0.006781391278989916, 'EMPSTAT_3': 0.8696222837974774} \n",
      "\n",
      "{'AGE': 54.02098608409392, 'FTOTINC': 365891.2911865946, 'PUMA_TOTAL_POP': 16218.795750411504, 'SEX_1': 0.3572123297920551, 'SEX_2': 0.6427876702079449, 'MARST_1': 1.1124434706744069e-13, 'MARST_2': 3.4867941867133823e-15, 'MARST_3': 8.982398158607907e-15, 'MARST_4': 1.0000000000004245, 'MARST_5': 1.4627188349436437e-14, 'MARST_6': 3.22519788653608e-14, 'EDUC_0': -1.211530875622202e-14, 'EDUC_1': -3.3861802251067274e-15, 'EDUC_2': 1.2087553180606392e-14, 'EDUC_3': 9.069134332406747e-15, 'EDUC_4': 1.1681627887227819e-14, 'EDUC_5': 5.627442956068762e-15, 'EDUC_6': -1.1213252548714081e-14, 'EDUC_7': 2.1760371282653068e-14, 'EDUC_8': 1.0000000000001712, 'EDUC_10': -2.6367796834847468e-14, 'EDUC_11': 1.1907141939104804e-14, 'EMPSTAT_0': -1.203759314449826e-13, 'EMPSTAT_1': 0.6763803680981639, 'EMPSTAT_2': -1.1209783101762127e-14, 'EMPSTAT_3': 0.3236196319018399} \n",
      "\n",
      "{'AGE': 48.50193149626573, 'FTOTINC': 166975.5033157284, 'PUMA_TOTAL_POP': 14661.27539917585, 'SEX_1': 0.48718774143703464, 'SEX_2': 0.5128122585629654, 'MARST_1': 0.684586659799194, 'MARST_2': 2.959438250016433e-15, 'MARST_3': 9.580877757819906e-15, 'MARST_4': 0.2738539788823187, 'MARST_5': 0.04155936131856243, 'MARST_6': -3.58046925441613e-14, 'EDUC_0': 0.015226628895172206, 'EDUC_1': 0.005504764357455047, 'EDUC_2': 0.024079320113313388, 'EDUC_3': 0.010751995879475486, 'EDUC_4': 0.018574555755857012, 'EDUC_5': 0.02401493690445282, 'EDUC_6': 0.38382049961372977, 'EDUC_7': 0.14589235127479636, 'EDUC_8': 0.0876899304661459, 'EDUC_10': 0.17901751223282192, 'EDUC_11': 0.10542750450682678, 'EMPSTAT_0': -1.5221157667610896e-13, 'EMPSTAT_1': -2.1360690993788012e-13, 'EMPSTAT_2': 1.0000000000002969, 'EMPSTAT_3': 1.408317906737011e-13} \n",
      "\n",
      "{'AGE': 46.89593196563139, 'FTOTINC': 636944.2130749901, 'PUMA_TOTAL_POP': 17492.994681161857, 'SEX_1': 0.1899000526039195, 'SEX_2': 0.8100999473960806, 'MARST_1': 0.3118826348705753, 'MARST_2': -1.4432899320127035e-15, 'MARST_3': 9.92088355911136e-15, 'MARST_4': 0.12081360687356979, 'MARST_5': 0.15632123443803017, 'MARST_6': 0.4109825238178704, 'EDUC_0': 2.42861286636753e-16, 'EDUC_1': 3.740063814205996e-14, 'EDUC_2': -3.4416913763379853e-15, 'EDUC_3': -1.627170620466245e-15, 'EDUC_4': 1.0000000000004814, 'EDUC_5': -5.72111802377151e-15, 'EDUC_6': -1.8324231021438209e-13, 'EDUC_7': 7.283063041541027e-14, 'EDUC_8': 1.880440247958859e-14, 'EDUC_10': -7.507883204027621e-14, 'EDUC_11': -3.300137940698278e-14, 'EMPSTAT_0': 8.767315430988076e-05, 'EMPSTAT_1': 0.09965515225887062, 'EMPSTAT_2': 0.0007598340054798709, 'EMPSTAT_3': 0.8994973405809008} \n",
      "\n",
      "{'AGE': 45.43422527127135, 'FTOTINC': 123584.9313417332, 'PUMA_TOTAL_POP': 50509.84117309786, 'SEX_1': 0.4116762784595902, 'SEX_2': 0.5883237215404099, 'MARST_1': 0.9184956405279436, 'MARST_2': -4.250072516143177e-15, 'MARST_3': 1.013772399360846e-14, 'MARST_4': -2.4022450695326825e-14, 'MARST_5': 0.00013666056251279007, 'MARST_6': 0.0813676989094429, 'EDUC_0': 0.0010112881624724096, 'EDUC_1': 0.0007106349250218802, 'EDUC_2': -1.4113710200547303e-14, 'EDUC_3': -4.385380947269368e-15, 'EDUC_4': -2.258609965721803e-15, 'EDUC_5': -8.347489366400396e-15, 'EDUC_6': -2.2304380564719395e-13, 'EDUC_7': 8.465450562766819e-14, 'EDUC_8': 6.4254157550180935e-15, 'EDUC_10': 0.9982780769129251, 'EDUC_11': -4.338196468722799e-14, 'EMPSTAT_0': -1.81826775857985e-13, 'EMPSTAT_1': 0.999152704512558, 'EMPSTAT_2': -1.5515366769136563e-14, 'EMPSTAT_3': 0.000847295487627242} \n",
      "\n",
      "{'AGE': 51.660146047652134, 'FTOTINC': 55583.23082457675, 'PUMA_TOTAL_POP': 13741.117344491142, 'SEX_1': 0.5596450082618413, 'SEX_2': 0.4403549917381588, 'MARST_1': 0.721256862640504, 'MARST_2': -5.263151026113633e-15, 'MARST_3': 1.0215786550027417e-14, 'MARST_4': 7.995309416050644e-05, 'MARST_5': 0.0038110974894902325, 'MARST_6': 0.2748520867758418, 'EDUC_0': 1.8186840922140846e-14, 'EDUC_1': 5.5094817597023393e-14, 'EDUC_2': 1.0000000000006164, 'EDUC_3': -5.377642775528102e-15, 'EDUC_4': -3.1988300897012323e-15, 'EDUC_5': -9.287709490379825e-15, 'EDUC_6': -2.3736568266485847e-13, 'EDUC_7': 8.88872309090516e-14, 'EDUC_8': 1.9845236565174673e-15, 'EDUC_10': -9.039990978010337e-14, 'EDUC_11': -4.711508960753008e-14, 'EMPSTAT_0': -1.8599011220032935e-13, 'EMPSTAT_1': 0.45304088268217474, 'EMPSTAT_2': -1.5803330866148713e-14, 'EMPSTAT_3': 0.5469591173178381} \n",
      "\n",
      "{'AGE': 28.399414739327533, 'FTOTINC': 856085.4771927868, 'PUMA_TOTAL_POP': 14098.031111225182, 'SEX_1': 0.5668300947198509, 'SEX_2': 0.4331699052801492, 'MARST_1': 1.2151391004522338e-13, 'MARST_2': -6.720318745934151e-15, 'MARST_3': 1.0326808852489933e-14, 'MARST_4': 7.700798313635404e-05, 'MARST_5': 0.0006160638653057784, 'MARST_6': 0.9993069281511304, 'EDUC_0': 0.01083245629795715, 'EDUC_1': 0.0018995302513594853, 'EDUC_2': 0.01298867982648639, 'EDUC_3': -6.810524366684945e-15, 'EDUC_4': 0.025104602510461073, 'EDUC_5': 0.09333367559107608, 'EDUC_6': 0.48242934517549607, 'EDUC_7': 0.17773442513538174, 'EDUC_8': 0.04959314115563922, 'EDUC_10': 0.11402315373362551, 'EDUC_11': 0.032060990322682524, 'EMPSTAT_0': -1.919853165333052e-13, 'EMPSTAT_1': -2.345346139520643e-13, 'EMPSTAT_2': 1.0000000000003528, 'EMPSTAT_3': 1.6581180872776713e-13} \n",
      "\n",
      "{'AGE': 24.83219076006507, 'FTOTINC': 925711.686164893, 'PUMA_TOTAL_POP': 15855.300919026278, 'SEX_1': 0.8184798807750305, 'SEX_2': 0.18152011922496952, 'MARST_1': 0.11087928464985453, 'MARST_2': -7.951972413877684e-15, 'MARST_3': 1.0423953367144634e-14, 'MARST_4': 0.026974664679561375, 'MARST_5': 0.0012667660208828257, 'MARST_6': 0.8608792846496899, 'EDUC_0': 3.0815627827252e-14, 'EDUC_1': 6.755707104844078e-14, 'EDUC_2': -2.8171909249863347e-14, 'EDUC_3': -8.017891905964802e-15, 'EDUC_4': 1.0000000000005227, 'EDUC_5': -1.1799589083594242e-14, 'EDUC_6': -2.755018435607326e-13, 'EDUC_7': 1.0019762797242038e-13, 'EDUC_8': -9.867107131356079e-15, 'EDUC_10': -1.0116907311896739e-13, 'EDUC_11': -5.706546346573305e-14, 'EMPSTAT_0': 0.15382513661202246, 'EMPSTAT_1': 0.36684053651271326, 'EMPSTAT_2': 0.03355688027818877, 'EMPSTAT_3': 0.445777446597105} \n",
      "\n"
     ]
    }
   ],
   "source": [
    "num_clusters = 8\n",
    "largest_clusters_indexes = np.argsort(counts)\n",
    "largest_cluster_centriods = kmeans.cluster_centers_[largest_clusters_indexes]\n",
    "cluster_centriods_rescaled = []\n",
    "for index in range(num_clusters):\n",
    "    centriod_rescaled = dict(zip(relevant_data.columns, scaler.inverse_transform(largest_cluster_centriods[index])))\n",
    "    print(centriod_rescaled, '\\n')\n",
    "    cluster_centriods_rescaled.append(centriod_rescaled)"
   ]
  },
  {
   "cell_type": "code",
   "execution_count": 93,
   "metadata": {},
   "outputs": [
    {
     "name": "stdout",
     "output_type": "stream",
     "text": [
      "{'AGE': 57.27920373341112, 'FTOTINC': 9999999.00000154, 'PUMA_TOTAL_POP': 17583.115283651758, 'SEX': 'Male', 'MARST': 'Married, spouse absent', 'EMPSTAT': 'Not in labor force'}\n",
      "{'AGE': 54.02098608409392, 'FTOTINC': 365891.2911865946, 'PUMA_TOTAL_POP': 16218.795750411504, 'SEX': 'Female', 'MARST': 'Divorced', 'EDUC': '2 years of college', 'EMPSTAT': 'Employed'}\n",
      "{'AGE': 48.50193149626573, 'FTOTINC': 166975.5033157284, 'PUMA_TOTAL_POP': 14661.27539917585, 'SEX': 'Female', 'MARST': 'Married, spouse present', 'EMPSTAT': 'Unemployed'}\n",
      "{'AGE': 46.89593196563139, 'FTOTINC': 636944.2130749901, 'PUMA_TOTAL_POP': 17492.994681161857, 'SEX': 'Female', 'EDUC': 'Grade 10', 'EMPSTAT': 'Not in labor force'}\n",
      "{'AGE': 45.43422527127135, 'FTOTINC': 123584.9313417332, 'PUMA_TOTAL_POP': 50509.84117309786, 'SEX': 'Female', 'MARST': 'Married, spouse present', 'EDUC': '4 years of college', 'EMPSTAT': 'Employed'}\n",
      "{'AGE': 51.660146047652134, 'FTOTINC': 55583.23082457675, 'PUMA_TOTAL_POP': 13741.117344491142, 'SEX': 'Male', 'MARST': 'Married, spouse present', 'EDUC': 'Grade 5, 6, 7, or 8', 'EMPSTAT': 'Not in labor force'}\n",
      "{'AGE': 28.399414739327533, 'FTOTINC': 856085.4771927868, 'PUMA_TOTAL_POP': 14098.031111225182, 'SEX': 'Male', 'MARST': 'Never married/single', 'EMPSTAT': 'Unemployed'}\n",
      "{'AGE': 24.83219076006507, 'FTOTINC': 925711.686164893, 'PUMA_TOTAL_POP': 15855.300919026278, 'SEX': 'Male', 'MARST': 'Never married/single', 'EDUC': 'Grade 10'}\n"
     ]
    }
   ],
   "source": [
    "soup = BeautifulSoup(open('./data/usa_00001.xml'), 'xml')\n",
    "\n",
    "def cluster_decoder(cluster): # cluster needs to be rescaled to original scale\n",
    "    result = ''\n",
    "    decoded_dict = {}\n",
    "    pattern = r'(?P<cat>\\w*)_(?P<encoding>\\d+)'\n",
    "    \n",
    "    for cat, val in cluster.items():\n",
    "        # match category to categorical variable\n",
    "        regex_result = re.match(pattern, cat)\n",
    "        if regex_result:\n",
    "            # find categorical variable in the soup\n",
    "            category = regex_result.group('cat')\n",
    "            cur_soup = soup.dataDscr.find('var', {'ID': category})\n",
    "            # translate encoded category to english\n",
    "            cat_valu_int = int(np.rint(int(regex_result.group('encoding'))))\n",
    "            rounded_val = int(np.rint(val))\n",
    "            if rounded_val > 0:\n",
    "                # if \n",
    "                for soup_catgry in cur_soup.find_all('catgry'):\n",
    "                    if int(soup_catgry.catValu.string) == cat_valu_int:\n",
    "                        # decode encoding\n",
    "                        decoded_dict[category] = soup_catgry.labl.string\n",
    "        else:\n",
    "            decoded_dict[cat] = val\n",
    "    return decoded_dict\n",
    "    \n",
    "for cluster in cluster_centriods_rescaled:\n",
    "    print(cluster_decoder(cluster))"
   ]
  },
  {
   "cell_type": "code",
   "execution_count": 19,
   "metadata": {},
   "outputs": [
    {
     "data": {
      "text/plain": [
       "(array([ 47793., 266088., 284210., 149447., 104017., 138543., 114524.,\n",
       "         64296.,  67562.,  52874.,  65266.,  48457.,  71125.,  55984.,\n",
       "         48929.,  86604.,  55066.,  13092.,  27120.,  21324.,  36738.,\n",
       "         38904.,  41009.,  25655.,  26287.,  36636.,  18892.,  19687.,\n",
       "         50242.,  41736.,  10716.,  22241.,      0.,  23574.,      0.,\n",
       "             0.,      0.,      0.,      0.,      0.,      0.,      0.,\n",
       "         14798.,  15195.,  15518.,  31803.,      0.,      0.,      0.,\n",
       "             0.,      0.,  17820.,      0.,      0.,  18844.,  19320.,\n",
       "             0.,      0.,      0.,      0.,  41630.,  21124.,  21664.,\n",
       "             0.,      0.,  22720.,      0.,      0.,      0.,  23739.,\n",
       "             0.,      0.,      0.,  25288.,      0.,      0.,      0.,\n",
       "             0.,      0.,      0.,  27563.,  27946.,      0.,      0.,\n",
       "             0.,      0.,  29552.,      0.,      0.,  61262.,      0.,\n",
       "             0.,      0.,  31874.,      0.,      0.,      0.,      0.,\n",
       "             0.,      0.,  34332.,      0.,      0.,      0.,      0.,\n",
       "         36035.,      0.,      0.,      0.,      0.,      0.,      0.,\n",
       "             0.,  38833.,      0.,      0.,      0.,      0.,      0.,\n",
       "             0.,      0.,  41206.,  41663.,      0.,      0.,      0.,\n",
       "             0.,      0.,      0.,      0.,      0.,      0.,      0.,\n",
       "             0.,      0.,  46189.,      0.,      0.,      0.,      0.,\n",
       "             0.,      0.,      0.,      0.,      0.,      0.,      0.,\n",
       "             0.,      0.,      0.,      0.,      0.,      0.,      0.,\n",
       "             0.,      0.,      0.,  53290.,      0.,      0.,      0.,\n",
       "             0.,      0.,      0.,      0.,      0.,  56572.,      0.,\n",
       "             0.,      0.,      0.,      0.,      0.,      0.,      0.,\n",
       "             0.,      0.,      0.,      0.,      0.,      0.,      0.,\n",
       "             0.,      0.,      0.,      0.,      0.,      0.,      0.,\n",
       "             0.,      0.,  64920.,      0.,      0.,      0.,      0.,\n",
       "             0.,  66972.,      0.,  67730.]),\n",
       " array([  552.  ,   887.89,  1223.78,  1559.67,  1895.56,  2231.45,\n",
       "         2567.34,  2903.23,  3239.12,  3575.01,  3910.9 ,  4246.79,\n",
       "         4582.68,  4918.57,  5254.46,  5590.35,  5926.24,  6262.13,\n",
       "         6598.02,  6933.91,  7269.8 ,  7605.69,  7941.58,  8277.47,\n",
       "         8613.36,  8949.25,  9285.14,  9621.03,  9956.92, 10292.81,\n",
       "        10628.7 , 10964.59, 11300.48, 11636.37, 11972.26, 12308.15,\n",
       "        12644.04, 12979.93, 13315.82, 13651.71, 13987.6 , 14323.49,\n",
       "        14659.38, 14995.27, 15331.16, 15667.05, 16002.94, 16338.83,\n",
       "        16674.72, 17010.61, 17346.5 , 17682.39, 18018.28, 18354.17,\n",
       "        18690.06, 19025.95, 19361.84, 19697.73, 20033.62, 20369.51,\n",
       "        20705.4 , 21041.29, 21377.18, 21713.07, 22048.96, 22384.85,\n",
       "        22720.74, 23056.63, 23392.52, 23728.41, 24064.3 , 24400.19,\n",
       "        24736.08, 25071.97, 25407.86, 25743.75, 26079.64, 26415.53,\n",
       "        26751.42, 27087.31, 27423.2 , 27759.09, 28094.98, 28430.87,\n",
       "        28766.76, 29102.65, 29438.54, 29774.43, 30110.32, 30446.21,\n",
       "        30782.1 , 31117.99, 31453.88, 31789.77, 32125.66, 32461.55,\n",
       "        32797.44, 33133.33, 33469.22, 33805.11, 34141.  , 34476.89,\n",
       "        34812.78, 35148.67, 35484.56, 35820.45, 36156.34, 36492.23,\n",
       "        36828.12, 37164.01, 37499.9 , 37835.79, 38171.68, 38507.57,\n",
       "        38843.46, 39179.35, 39515.24, 39851.13, 40187.02, 40522.91,\n",
       "        40858.8 , 41194.69, 41530.58, 41866.47, 42202.36, 42538.25,\n",
       "        42874.14, 43210.03, 43545.92, 43881.81, 44217.7 , 44553.59,\n",
       "        44889.48, 45225.37, 45561.26, 45897.15, 46233.04, 46568.93,\n",
       "        46904.82, 47240.71, 47576.6 , 47912.49, 48248.38, 48584.27,\n",
       "        48920.16, 49256.05, 49591.94, 49927.83, 50263.72, 50599.61,\n",
       "        50935.5 , 51271.39, 51607.28, 51943.17, 52279.06, 52614.95,\n",
       "        52950.84, 53286.73, 53622.62, 53958.51, 54294.4 , 54630.29,\n",
       "        54966.18, 55302.07, 55637.96, 55973.85, 56309.74, 56645.63,\n",
       "        56981.52, 57317.41, 57653.3 , 57989.19, 58325.08, 58660.97,\n",
       "        58996.86, 59332.75, 59668.64, 60004.53, 60340.42, 60676.31,\n",
       "        61012.2 , 61348.09, 61683.98, 62019.87, 62355.76, 62691.65,\n",
       "        63027.54, 63363.43, 63699.32, 64035.21, 64371.1 , 64706.99,\n",
       "        65042.88, 65378.77, 65714.66, 66050.55, 66386.44, 66722.33,\n",
       "        67058.22, 67394.11, 67730.  ]),\n",
       " <a list of 200 Patch objects>)"
      ]
     },
     "execution_count": 19,
     "metadata": {},
     "output_type": "execute_result"
    },
    {
     "data": {
      "image/png": "[encoded data removed]",
      "text/plain": [
       "<Figure size 432x288 with 1 Axes>"
      ]
     },
     "metadata": {
      "needs_background": "light"
     },
     "output_type": "display_data"
    }
   ],
   "source": [
    "plt.hist(data['PUMA_TOTAL_POP'], bins = 200)"
   ]
  },
  {
   "cell_type": "code",
   "execution_count": null,
   "metadata": {},
   "outputs": [],
   "source": []
  }
 ],
 "metadata": {
  "kernelspec": {
   "display_name": "Python 3",
   "language": "python",
   "name": "python3"
  },
  "language_info": {
   "codemirror_mode": {
    "name": "ipython",
    "version": 3
   },
   "file_extension": ".py",
   "mimetype": "text/x-python",
   "name": "python",
   "nbconvert_exporter": "python",
   "pygments_lexer": "ipython3",
   "version": "3.7.3"
  }
 },
 "nbformat": 4,
 "nbformat_minor": 4
}
